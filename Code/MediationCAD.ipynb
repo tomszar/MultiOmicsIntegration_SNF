{
 "cells": [
  {
   "cell_type": "markdown",
   "metadata": {},
   "source": [
    "# Mediation analysis on CAD\n",
    "\n",
    "In this script we will run a mediation analysis with coronary artery disease\n",
    "\n",
    "## Preliminary steps"
   ]
  },
  {
   "cell_type": "code",
   "execution_count": 1,
   "metadata": {},
   "outputs": [
    {
     "name": "stderr",
     "output_type": "stream",
     "text": [
      "Loading required package: MASS\n",
      "\n",
      "Loading required package: Matrix\n",
      "\n",
      "Loading required package: mvtnorm\n",
      "\n",
      "Loading required package: sandwich\n",
      "\n",
      "mediation: Causal Mediation Analysis\n",
      "Version: 4.5.0\n",
      "\n",
      "\n"
     ]
    }
   ],
   "source": [
    "#### LIBRARIES\n",
    "library(mediation)\n",
    "library(stringr)"
   ]
  },
  {
   "cell_type": "code",
   "execution_count": 2,
   "metadata": {},
   "outputs": [],
   "source": [
    "#### PATHS\n",
    "setwd('../')\n",
    "mainpath <- getwd()\n",
    "datapath <- paste0(mainpath, '/Data')"
   ]
  },
  {
   "cell_type": "code",
   "execution_count": 3,
   "metadata": {},
   "outputs": [],
   "source": [
    "#### DATA\n",
    "setwd(datapath)\n",
    "snp_significant_met <- read.csv('MWAS_SNPs.txt', header=FALSE)\n",
    "snp_gwas_cad        <- read.table('LURIC/results_Luric_cadyn_gwas.txt', header=TRUE) #GWAS on CAD\n",
    "snp_met_pair        <- read.csv('results_genomewide_sig_LURIC_GenotypeMetabotype.csv') #mQTL\n",
    "metabolites         <- read.table('LURIC/MWAS_metab_data.txt', header=TRUE, sep='\\t') #Metabolite data"
   ]
  },
  {
   "cell_type": "code",
   "execution_count": 4,
   "metadata": {},
   "outputs": [
    {
     "data": {
      "text/html": [
       "'There are 282 SNPs significantly associated with metabolites'"
      ],
      "text/latex": [
       "'There are 282 SNPs significantly associated with metabolites'"
      ],
      "text/markdown": [
       "'There are 282 SNPs significantly associated with metabolites'"
      ],
      "text/plain": [
       "[1] \"There are 282 SNPs significantly associated with metabolites\""
      ]
     },
     "metadata": {},
     "output_type": "display_data"
    }
   ],
   "source": [
    "sprintf('There are %i SNPs significantly associated with metabolites', length(snp_significant_met[,1]))"
   ]
  },
  {
   "cell_type": "markdown",
   "metadata": {},
   "source": [
    "## Selecting SNPs\n",
    "\n",
    "We will select SNPs based on the following criteria:\n",
    "- From the SNPs that are significantly associated with metabolites, select the the top ones that are associated with CAD"
   ]
  },
  {
   "cell_type": "code",
   "execution_count": 5,
   "metadata": {},
   "outputs": [],
   "source": [
    "#### SELECT SNPS FROM METABOLITES ASSOCIATION TO CAD ASSOCIATION\n",
    "idx <- which(snp_gwas_cad$Var1_ID %in% snp_significant_met$V1)\n",
    "\n",
    "#### SORT SNPs\n",
    "sorted      <- sort.int(snp_gwas_cad[idx, 'Var1_Pval'], index.return = TRUE)\n",
    "temp_snps   <- snp_gwas_cad[idx,]\n",
    "sorted_snps <- temp_snps[sorted$ix, ]"
   ]
  },
  {
   "cell_type": "code",
   "execution_count": 6,
   "metadata": {},
   "outputs": [
    {
     "data": {
      "text/html": [
       "'The highest GWAS pvalue on CAD is 0.993537, and the lowest one is 0.011338, so we will select SNPs with p &lt; 0.05'"
      ],
      "text/latex": [
       "'The highest GWAS pvalue on CAD is 0.993537, and the lowest one is 0.011338, so we will select SNPs with p < 0.05'"
      ],
      "text/markdown": [
       "'The highest GWAS pvalue on CAD is 0.993537, and the lowest one is 0.011338, so we will select SNPs with p &lt; 0.05'"
      ],
      "text/plain": [
       "[1] \"The highest GWAS pvalue on CAD is 0.993537, and the lowest one is 0.011338, so we will select SNPs with p < 0.05\""
      ]
     },
     "metadata": {},
     "output_type": "display_data"
    },
    {
     "data": {
      "text/html": [
       "<table>\n",
       "<caption>A data.frame: 8 × 3</caption>\n",
       "<thead>\n",
       "\t<tr><th></th><th scope=col>Var1_ID</th><th scope=col>Var1_Pos</th><th scope=col>Var1_Pval</th></tr>\n",
       "\t<tr><th></th><th scope=col>&lt;chr&gt;</th><th scope=col>&lt;chr&gt;</th><th scope=col>&lt;dbl&gt;</th></tr>\n",
       "</thead>\n",
       "<tbody>\n",
       "\t<tr><th scope=row>6231</th><td>rs11240099</td><td>1:144973250</td><td>0.0113379</td></tr>\n",
       "\t<tr><th scope=row>9507</th><td>rs2353029 </td><td>17:37280697</td><td>0.0169575</td></tr>\n",
       "\t<tr><th scope=row>10944</th><td>rs11965495</td><td>6:90719014 </td><td>0.0194511</td></tr>\n",
       "\t<tr><th scope=row>13448</th><td>rs992375  </td><td>11:33898323</td><td>0.0237699</td></tr>\n",
       "\t<tr><th scope=row>16456</th><td>rs12170368</td><td>22:31441247</td><td>0.0291719</td></tr>\n",
       "\t<tr><th scope=row>17579</th><td>rs17830422</td><td>15:86510061</td><td>0.0311222</td></tr>\n",
       "\t<tr><th scope=row>20367</th><td>rs5749498 </td><td>22:31436947</td><td>0.0359842</td></tr>\n",
       "\t<tr><th scope=row>22720</th><td>rs1419373 </td><td>9:21047062 </td><td>0.0400954</td></tr>\n",
       "</tbody>\n",
       "</table>\n"
      ],
      "text/latex": [
       "A data.frame: 8 × 3\n",
       "\\begin{tabular}{r|lll}\n",
       "  & Var1\\_ID & Var1\\_Pos & Var1\\_Pval\\\\\n",
       "  & <chr> & <chr> & <dbl>\\\\\n",
       "\\hline\n",
       "\t6231 & rs11240099 & 1:144973250 & 0.0113379\\\\\n",
       "\t9507 & rs2353029  & 17:37280697 & 0.0169575\\\\\n",
       "\t10944 & rs11965495 & 6:90719014  & 0.0194511\\\\\n",
       "\t13448 & rs992375   & 11:33898323 & 0.0237699\\\\\n",
       "\t16456 & rs12170368 & 22:31441247 & 0.0291719\\\\\n",
       "\t17579 & rs17830422 & 15:86510061 & 0.0311222\\\\\n",
       "\t20367 & rs5749498  & 22:31436947 & 0.0359842\\\\\n",
       "\t22720 & rs1419373  & 9:21047062  & 0.0400954\\\\\n",
       "\\end{tabular}\n"
      ],
      "text/markdown": [
       "\n",
       "A data.frame: 8 × 3\n",
       "\n",
       "| <!--/--> | Var1_ID &lt;chr&gt; | Var1_Pos &lt;chr&gt; | Var1_Pval &lt;dbl&gt; |\n",
       "|---|---|---|---|\n",
       "| 6231 | rs11240099 | 1:144973250 | 0.0113379 |\n",
       "| 9507 | rs2353029  | 17:37280697 | 0.0169575 |\n",
       "| 10944 | rs11965495 | 6:90719014  | 0.0194511 |\n",
       "| 13448 | rs992375   | 11:33898323 | 0.0237699 |\n",
       "| 16456 | rs12170368 | 22:31441247 | 0.0291719 |\n",
       "| 17579 | rs17830422 | 15:86510061 | 0.0311222 |\n",
       "| 20367 | rs5749498  | 22:31436947 | 0.0359842 |\n",
       "| 22720 | rs1419373  | 9:21047062  | 0.0400954 |\n",
       "\n"
      ],
      "text/plain": [
       "      Var1_ID    Var1_Pos    Var1_Pval\n",
       "6231  rs11240099 1:144973250 0.0113379\n",
       "9507  rs2353029  17:37280697 0.0169575\n",
       "10944 rs11965495 6:90719014  0.0194511\n",
       "13448 rs992375   11:33898323 0.0237699\n",
       "16456 rs12170368 22:31441247 0.0291719\n",
       "17579 rs17830422 15:86510061 0.0311222\n",
       "20367 rs5749498  22:31436947 0.0359842\n",
       "22720 rs1419373  9:21047062  0.0400954"
      ]
     },
     "metadata": {},
     "output_type": "display_data"
    }
   ],
   "source": [
    "sprintf('The highest GWAS pvalue on CAD is %f, and the lowest one is %f, so we will select SNPs with p < 0.05', max(sorted_snps$Var1_Pval), min(sorted_snps$Var1_Pval))\n",
    "b           <- sorted_snps$Var1_Pval < 0.05\n",
    "sorted_snps <- sorted_snps[b,]\n",
    "sorted_snps"
   ]
  },
  {
   "cell_type": "code",
   "execution_count": 7,
   "metadata": {},
   "outputs": [
    {
     "data": {
      "text/html": [
       "<table>\n",
       "<caption>A data.frame: 11 × 2</caption>\n",
       "<thead>\n",
       "\t<tr><th></th><th scope=col>Outcome</th><th scope=col>Var1_ID</th></tr>\n",
       "\t<tr><th></th><th scope=col>&lt;chr&gt;</th><th scope=col>&lt;chr&gt;</th></tr>\n",
       "</thead>\n",
       "<tbody>\n",
       "\t<tr><th scope=row>72</th><td>pc_42_4       </td><td>rs12170368</td></tr>\n",
       "\t<tr><th scope=row>79</th><td>hydro_7       </td><td>rs11965495</td></tr>\n",
       "\t<tr><th scope=row>104</th><td>pc_42_4       </td><td>rs5749498 </td></tr>\n",
       "\t<tr><th scope=row>131</th><td>stigmast      </td><td>rs2353029 </td></tr>\n",
       "\t<tr><th scope=row>162</th><td>pc_o_21       </td><td>rs992375  </td></tr>\n",
       "\t<tr><th scope=row>173</th><td>spm_di5       </td><td>rs1419373 </td></tr>\n",
       "\t<tr><th scope=row>253</th><td>Kynurenic_acid</td><td>rs17830422</td></tr>\n",
       "\t<tr><th scope=row>297</th><td>spm_28_3      </td><td>rs1419373 </td></tr>\n",
       "\t<tr><th scope=row>328</th><td>pc_o_21       </td><td>rs5749498 </td></tr>\n",
       "\t<tr><th scope=row>346</th><td>pc_o_21       </td><td>rs12170368</td></tr>\n",
       "\t<tr><th scope=row>424</th><td>ce_22_2       </td><td>rs11240099</td></tr>\n",
       "</tbody>\n",
       "</table>\n"
      ],
      "text/latex": [
       "A data.frame: 11 × 2\n",
       "\\begin{tabular}{r|ll}\n",
       "  & Outcome & Var1\\_ID\\\\\n",
       "  & <chr> & <chr>\\\\\n",
       "\\hline\n",
       "\t72 & pc\\_42\\_4        & rs12170368\\\\\n",
       "\t79 & hydro\\_7        & rs11965495\\\\\n",
       "\t104 & pc\\_42\\_4        & rs5749498 \\\\\n",
       "\t131 & stigmast       & rs2353029 \\\\\n",
       "\t162 & pc\\_o\\_21        & rs992375  \\\\\n",
       "\t173 & spm\\_di5        & rs1419373 \\\\\n",
       "\t253 & Kynurenic\\_acid & rs17830422\\\\\n",
       "\t297 & spm\\_28\\_3       & rs1419373 \\\\\n",
       "\t328 & pc\\_o\\_21        & rs5749498 \\\\\n",
       "\t346 & pc\\_o\\_21        & rs12170368\\\\\n",
       "\t424 & ce\\_22\\_2        & rs11240099\\\\\n",
       "\\end{tabular}\n"
      ],
      "text/markdown": [
       "\n",
       "A data.frame: 11 × 2\n",
       "\n",
       "| <!--/--> | Outcome &lt;chr&gt; | Var1_ID &lt;chr&gt; |\n",
       "|---|---|---|\n",
       "| 72 | pc_42_4        | rs12170368 |\n",
       "| 79 | hydro_7        | rs11965495 |\n",
       "| 104 | pc_42_4        | rs5749498  |\n",
       "| 131 | stigmast       | rs2353029  |\n",
       "| 162 | pc_o_21        | rs992375   |\n",
       "| 173 | spm_di5        | rs1419373  |\n",
       "| 253 | Kynurenic_acid | rs17830422 |\n",
       "| 297 | spm_28_3       | rs1419373  |\n",
       "| 328 | pc_o_21        | rs5749498  |\n",
       "| 346 | pc_o_21        | rs12170368 |\n",
       "| 424 | ce_22_2        | rs11240099 |\n",
       "\n"
      ],
      "text/plain": [
       "    Outcome        Var1_ID   \n",
       "72  pc_42_4        rs12170368\n",
       "79  hydro_7        rs11965495\n",
       "104 pc_42_4        rs5749498 \n",
       "131 stigmast       rs2353029 \n",
       "162 pc_o_21        rs992375  \n",
       "173 spm_di5        rs1419373 \n",
       "253 Kynurenic_acid rs17830422\n",
       "297 spm_28_3       rs1419373 \n",
       "328 pc_o_21        rs5749498 \n",
       "346 pc_o_21        rs12170368\n",
       "424 ce_22_2        rs11240099"
      ]
     },
     "metadata": {},
     "output_type": "display_data"
    }
   ],
   "source": [
    "#### GET SNP METABOLITE PAIR\n",
    "b            <- which(snp_met_pair$Var1_ID %in% sorted_snps$Var1_ID)\n",
    "snp_met_pair <- snp_met_pair[b,]\n",
    "snp_met_pair"
   ]
  },
  {
   "cell_type": "markdown",
   "metadata": {},
   "source": [
    "## Export selected SNP only\n",
    "\n",
    "We will extract and read the selection of SNPs"
   ]
  },
  {
   "cell_type": "code",
   "execution_count": 8,
   "metadata": {},
   "outputs": [],
   "source": [
    "setwd(datapath)\n",
    "write.table(sorted_snps$Var1_ID, file = 'LURIC/top_snps_cad_met.txt', quote = FALSE, row.names = FALSE, col.names = FALSE)"
   ]
  },
  {
   "cell_type": "code",
   "execution_count": 9,
   "metadata": {},
   "outputs": [],
   "source": [
    "plink_command <- 'plink --bfile LURIC/LURIC_idpat_final_relRem_geno99_mind99_maf05 --extract LURIC/top_snps_cad_met.txt --recodeA --out LURIC/LURIC_idpat_final_relRem_geno99_mind99_maf05_topSNPsCAD_MET'\n",
    "system(plink_command)"
   ]
  },
  {
   "cell_type": "code",
   "execution_count": 10,
   "metadata": {},
   "outputs": [],
   "source": [
    "#### READ SNP FILES\n",
    "setwd(datapath)\n",
    "snps <- read.table('LURIC/LURIC_idpat_final_relRem_geno99_mind99_maf05_topSNPsCAD_MET.raw', header=TRUE) #genotypes"
   ]
  },
  {
   "cell_type": "markdown",
   "metadata": {},
   "source": [
    "## Mediation Analysis\n",
    "\n",
    "We will do pairwise SNP-metabolite mediation analysis"
   ]
  },
  {
   "cell_type": "code",
   "execution_count": 11,
   "metadata": {},
   "outputs": [
    {
     "name": "stdout",
     "output_type": "stream",
     "text": [
      "   Outcome    Var1_ID\n",
      "72 pc_42_4 rs12170368\n",
      "\n",
      "Causal Mediation Analysis \n",
      "\n",
      "Quasi-Bayesian Confidence Intervals\n",
      "\n",
      "               Estimate 95% CI Lower 95% CI Upper p-value\n",
      "ACME            -0.0006      -0.0032         0.00    0.58\n",
      "ADE             -0.0151      -0.0608         0.03    0.51\n",
      "Total Effect    -0.0157      -0.0618         0.03    0.49\n",
      "Prop. Mediated   0.0122      -0.4169         0.53    0.73\n",
      "\n",
      "Sample Size Used: 2812 \n",
      "\n",
      "\n",
      "Simulations: 1000 \n",
      "\n",
      "\n",
      "   Outcome    Var1_ID\n",
      "79 hydro_7 rs11965495\n",
      "\n",
      "Causal Mediation Analysis \n",
      "\n",
      "Quasi-Bayesian Confidence Intervals\n",
      "\n",
      "               Estimate 95% CI Lower 95% CI Upper p-value\n",
      "ACME            0.00348     -0.00304         0.01    0.33\n",
      "ADE            -0.02640     -0.07830         0.03    0.35\n",
      "Total Effect   -0.02292     -0.07547         0.03    0.41\n",
      "Prop. Mediated -0.07298     -1.31890         1.88    0.61\n",
      "\n",
      "Sample Size Used: 1979 \n",
      "\n",
      "\n",
      "Simulations: 1000 \n",
      "\n",
      "\n",
      "    Outcome   Var1_ID\n",
      "104 pc_42_4 rs5749498\n",
      "\n",
      "Causal Mediation Analysis \n",
      "\n",
      "Quasi-Bayesian Confidence Intervals\n",
      "\n",
      "                Estimate 95% CI Lower 95% CI Upper p-value\n",
      "ACME           -0.000438    -0.002736         0.00    0.67\n",
      "ADE            -0.023448    -0.070294         0.02    0.31\n",
      "Total Effect   -0.023886    -0.071196         0.02    0.30\n",
      "Prop. Mediated  0.008210    -0.334862         0.56    0.77\n",
      "\n",
      "Sample Size Used: 2814 \n",
      "\n",
      "\n",
      "Simulations: 1000 \n",
      "\n",
      "\n",
      "     Outcome   Var1_ID\n",
      "131 stigmast rs2353029\n",
      "\n",
      "Causal Mediation Analysis \n",
      "\n",
      "Quasi-Bayesian Confidence Intervals\n",
      "\n",
      "                Estimate 95% CI Lower 95% CI Upper p-value\n",
      "ACME            0.001531    -0.005537         0.01    0.68\n",
      "ADE             0.000886    -0.055730         0.06    0.99\n",
      "Total Effect    0.002417    -0.053055         0.06    0.97\n",
      "Prop. Mediated  0.011865    -1.699687         1.56    0.95\n",
      "\n",
      "Sample Size Used: 2164 \n",
      "\n",
      "\n",
      "Simulations: 1000 \n",
      "\n",
      "\n",
      "    Outcome  Var1_ID\n",
      "162 pc_o_21 rs992375\n",
      "\n",
      "Causal Mediation Analysis \n",
      "\n",
      "Quasi-Bayesian Confidence Intervals\n",
      "\n",
      "                Estimate 95% CI Lower 95% CI Upper p-value\n",
      "ACME           -0.001148    -0.003578         0.00    0.13\n",
      "ADE            -0.000179    -0.038469         0.04    0.99\n",
      "Total Effect   -0.001327    -0.040222         0.04    0.95\n",
      "Prop. Mediated  0.006566    -0.871657         1.12    0.93\n",
      "\n",
      "Sample Size Used: 2813 \n",
      "\n",
      "\n",
      "Simulations: 1000 \n",
      "\n",
      "\n",
      "    Outcome   Var1_ID\n",
      "173 spm_di5 rs1419373\n",
      "\n",
      "Causal Mediation Analysis \n",
      "\n",
      "Quasi-Bayesian Confidence Intervals\n",
      "\n",
      "                Estimate 95% CI Lower 95% CI Upper p-value\n",
      "ACME           -3.49e-05    -9.96e-04         0.00    0.92\n",
      "ADE             2.02e-02    -1.94e-02         0.06    0.30\n",
      "Total Effect    2.01e-02    -1.93e-02         0.06    0.31\n",
      "Prop. Mediated -2.30e-04    -1.41e-01         0.14    0.96\n",
      "\n",
      "Sample Size Used: 2811 \n",
      "\n",
      "\n",
      "Simulations: 1000 \n",
      "\n",
      "\n",
      "           Outcome    Var1_ID\n",
      "253 Kynurenic_acid rs17830422\n",
      "\n",
      "Causal Mediation Analysis \n",
      "\n",
      "Quasi-Bayesian Confidence Intervals\n",
      "\n",
      "                Estimate 95% CI Lower 95% CI Upper p-value\n",
      "ACME           -0.000771    -0.005470         0.00    0.65\n",
      "ADE            -0.034295    -0.100559         0.04    0.28\n",
      "Total Effect   -0.035066    -0.100423         0.04    0.28\n",
      "Prop. Mediated  0.007371    -0.330678         0.37    0.76\n",
      "\n",
      "Sample Size Used: 797 \n",
      "\n",
      "\n",
      "Simulations: 1000 \n",
      "\n",
      "\n",
      "     Outcome   Var1_ID\n",
      "297 spm_28_3 rs1419373\n",
      "\n",
      "Causal Mediation Analysis \n",
      "\n",
      "Quasi-Bayesian Confidence Intervals\n",
      "\n",
      "                Estimate 95% CI Lower 95% CI Upper p-value\n",
      "ACME           -1.19e-05    -1.01e-03         0.00    0.99\n",
      "ADE             2.07e-02    -1.75e-02         0.06    0.31\n",
      "Total Effect    2.07e-02    -1.80e-02         0.06    0.31\n",
      "Prop. Mediated  1.17e-04    -1.45e-01         0.14    0.98\n",
      "\n",
      "Sample Size Used: 2811 \n",
      "\n",
      "\n",
      "Simulations: 1000 \n",
      "\n",
      "\n",
      "    Outcome   Var1_ID\n",
      "328 pc_o_21 rs5749498\n",
      "\n",
      "Causal Mediation Analysis \n",
      "\n",
      "Quasi-Bayesian Confidence Intervals\n",
      "\n",
      "                Estimate 95% CI Lower 95% CI Upper p-value\n",
      "ACME           -0.000248    -0.002494         0.00    0.78\n",
      "ADE            -0.024324    -0.067464         0.02    0.26\n",
      "Total Effect   -0.024571    -0.067905         0.02    0.26\n",
      "Prop. Mediated  0.004225    -0.176092         0.24    0.85\n",
      "\n",
      "Sample Size Used: 2814 \n",
      "\n",
      "\n",
      "Simulations: 1000 \n",
      "\n",
      "\n",
      "    Outcome    Var1_ID\n",
      "346 pc_o_21 rs12170368\n",
      "\n",
      "Causal Mediation Analysis \n",
      "\n",
      "Quasi-Bayesian Confidence Intervals\n",
      "\n",
      "                Estimate 95% CI Lower 95% CI Upper p-value\n",
      "ACME           -0.000303    -0.002449         0.00    0.74\n",
      "ADE            -0.016573    -0.061781         0.03    0.49\n",
      "Total Effect   -0.016877    -0.061852         0.03    0.48\n",
      "Prop. Mediated  0.003977    -0.393917         0.42    0.87\n",
      "\n",
      "Sample Size Used: 2812 \n",
      "\n",
      "\n",
      "Simulations: 1000 \n",
      "\n",
      "\n",
      "    Outcome    Var1_ID\n",
      "424 ce_22_2 rs11240099\n",
      "\n",
      "Causal Mediation Analysis \n",
      "\n",
      "Quasi-Bayesian Confidence Intervals\n",
      "\n",
      "                Estimate 95% CI Lower 95% CI Upper p-value\n",
      "ACME           -0.000323    -0.002216         0.00    0.66\n",
      "ADE             0.013664    -0.027727         0.05    0.47\n",
      "Total Effect    0.013340    -0.026672         0.05    0.48\n",
      "Prop. Mediated -0.003591    -0.378133         0.35    0.87\n",
      "\n",
      "Sample Size Used: 2812 \n",
      "\n",
      "\n",
      "Simulations: 1000 \n",
      "\n",
      "\n"
     ]
    }
   ],
   "source": [
    "#### INTERSECT DATA SETS\n",
    "dat <- merge(metabolites, snps, by.x='idpat', by.y='IID')\n",
    "\n",
    "for(i in 1:length(snp_met_pair[,1])){\n",
    "    metname <- snp_met_pair[i,1]\n",
    "    snpname <- snp_met_pair[i,2]\n",
    "    idx     <- which(str_detect(colnames(dat), snpname))\n",
    "    dat_for_fit <- cbind(dat$cadyn, dat[,idx], scale(dat[,metname]), scale(dat$age), scale(dat$bmi), scale(dat$waihip), dat$sex )\n",
    "    dat_for_fit <- na.omit(dat_for_fit)\n",
    "    \n",
    "    #### EFFECT ON MEDIATOR\n",
    "    fit.mediator <- lm(dat_for_fit[,3] ~ dat_for_fit[,2] + dat_for_fit[,4] + dat_for_fit[,5] + dat_for_fit[,6] + dat_for_fit[,7])\n",
    "    #summary(fit.mediator)\n",
    "    \n",
    "    #### EFFECT ON OUTCOME\n",
    "    fit.outcome <- lm(dat_for_fit[,1] ~ dat_for_fit[,2] + dat_for_fit[,3] + dat_for_fit[,4] + dat_for_fit[,5] + dat_for_fit[,6] + dat_for_fit[,7])\n",
    "    #summary(fit.outcome)\n",
    "    \n",
    "    #### MEDIATION\n",
    "    fit.mediation <- mediate(fit.mediator, fit.outcome, treat = 'dat_for_fit[, 2]', mediator = 'dat_for_fit[, 3]')\n",
    "    print(snp_met_pair[i,])\n",
    "    print(summary(fit.mediation))\n",
    "    cat('\\n')\n",
    "}\n"
   ]
  },
  {
   "cell_type": "code",
   "execution_count": null,
   "metadata": {},
   "outputs": [],
   "source": []
  }
 ],
 "metadata": {
  "kernelspec": {
   "display_name": "R",
   "language": "R",
   "name": "ir"
  },
  "language_info": {
   "codemirror_mode": "r",
   "file_extension": ".r",
   "mimetype": "text/x-r-source",
   "name": "R",
   "pygments_lexer": "r",
   "version": "4.0.3"
  }
 },
 "nbformat": 4,
 "nbformat_minor": 4
}
