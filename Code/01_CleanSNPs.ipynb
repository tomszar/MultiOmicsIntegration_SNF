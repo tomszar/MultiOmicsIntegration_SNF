{
 "cells": [
  {
   "cell_type": "markdown",
   "metadata": {},
   "source": [
    "# SNP cleaning\n",
    "\n",
    "In this script we will:\n",
    "\n",
    "1. Extract only the signifcant SNPs \n",
    "2. LD prune the SNPs using $r^2 = 0.7$"
   ]
  },
  {
   "cell_type": "code",
   "execution_count": 1,
   "metadata": {},
   "outputs": [],
   "source": [
    "import os\n",
    "import subprocess\n",
    "import pandas as pd"
   ]
  },
  {
   "cell_type": "code",
   "execution_count": 2,
   "metadata": {},
   "outputs": [],
   "source": [
    "#### SET PATHS\n",
    "os.chdir('..')\n",
    "mainpath = os.getcwd()\n",
    "datapath = os.path.join(mainpath, 'Data')"
   ]
  },
  {
   "cell_type": "code",
   "execution_count": 3,
   "metadata": {},
   "outputs": [],
   "source": [
    "#### READ DATA\n",
    "os.chdir(datapath)\n",
    "snp_list   = pd.read_table('MWAS_SNPs.txt', header=None)\n",
    "metab_list = pd.read_table('MWAS_metab.txt', header=None)"
   ]
  },
  {
   "cell_type": "code",
   "execution_count": 4,
   "metadata": {},
   "outputs": [
    {
     "data": {
      "text/plain": [
       "CompletedProcess(args=['plink', '--bfile', 'LURIC/LURIC_idpat_final_relRem_geno99_mind99_maf05', '--extract', 'LURIC/LURIC_temp.prune.in', '--pheno', 'LURIC/PLATO_phewas_covar_pheno.txt', '--pheno-name', 'cadyn', '--1', '--recodeA', '--out', 'LURIC/LURIC_idpat_final_relRem_geno99_mind99_maf05_pruned'], returncode=0)"
      ]
     },
     "execution_count": 4,
     "metadata": {},
     "output_type": "execute_result"
    }
   ],
   "source": [
    "#### RETAIN ONLY SELECTED SNPs\n",
    "os.chdir(datapath)\n",
    "plinkfilename = 'LURIC/LURIC_idpat_final_relRem_geno99_mind99_maf05'\n",
    "plinkoutname  = 'LURIC/LURIC_idpat_final_relRem_geno99_mind99_maf05_pruned'\n",
    "tempname      = 'LURIC/LURIC_temp'\n",
    "phenofile     = 'LURIC/PLATO_phewas_covar_pheno.txt'\n",
    "subprocess.run(['plink', '--bfile', plinkfilename, '--extract', 'MWAS_SNPs.txt', '--indep-pairwise', '50', '5', '0.7', '--out', tempname, '--make-bed'])\n",
    "subprocess.run(['plink', '--bfile', plinkfilename, '--extract', 'LURIC/LURIC_temp.prune.in', '--pheno', phenofile, '--pheno-name', 'cadyn', '--1', '--recodeA', '--out', plinkoutname, ])"
   ]
  },
  {
   "cell_type": "code",
   "execution_count": 5,
   "metadata": {},
   "outputs": [
    {
     "data": {
      "text/plain": [
       "CompletedProcess(args=['plink', '--bfile', 'LURIC/LURIC_idpat_final_relRem_geno99_mind99_maf05', '--extract', 'LURIC/LURIC_temp.prune.in', '--r', 'inter-chr', '--ld-window-r2', '0.0', '--out', 'LURIC/pearson_r'], returncode=0)"
      ]
     },
     "execution_count": 5,
     "metadata": {},
     "output_type": "execute_result"
    }
   ],
   "source": [
    "#### ESTIMATE GENOTYPIC CORRELATION R2\n",
    "os.chdir(datapath)\n",
    "subprocess.run(['plink', '--bfile', plinkfilename, '--extract', 'LURIC/LURIC_temp.prune.in', '--r', 'inter-chr','--ld-window-r2', '0.0', '--out', 'LURIC/pearson_r'])"
   ]
  },
  {
   "cell_type": "code",
   "execution_count": null,
   "metadata": {},
   "outputs": [],
   "source": []
  }
 ],
 "metadata": {
  "kernelspec": {
   "display_name": "Python 3",
   "language": "python",
   "name": "python3"
  },
  "language_info": {
   "codemirror_mode": {
    "name": "ipython",
    "version": 3
   },
   "file_extension": ".py",
   "mimetype": "text/x-python",
   "name": "python",
   "nbconvert_exporter": "python",
   "pygments_lexer": "ipython3",
   "version": "3.8.5"
  }
 },
 "nbformat": 4,
 "nbformat_minor": 4
}
